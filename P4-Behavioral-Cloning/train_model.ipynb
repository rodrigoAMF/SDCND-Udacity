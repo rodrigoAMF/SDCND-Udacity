{
 "cells": [
  {
   "cell_type": "code",
   "execution_count": 1,
   "metadata": {},
   "outputs": [],
   "source": [
    "import numpy as np\n",
    "\n",
    "from tensorflow import keras\n",
    "from tensorflow.keras import layers\n",
    "from tensorflow.keras.callbacks import ModelCheckpoint, EarlyStopping\n",
    "from tensorflow.keras.initializers import glorot_uniform, he_uniform\n",
    "tensorflow.random.set_seed(27)"
   ]
  },
  {
   "cell_type": "code",
   "execution_count": 2,
   "metadata": {},
   "outputs": [],
   "source": [
    "X_train = np.load(\"X_train.npy\")\n",
    "y_train = np.load(\"y_train.npy\")\n",
    "X_val = np.load(\"X_val.npy\")\n",
    "y_val = np.load(\"y_val.npy\")"
   ]
  },
  {
   "cell_type": "code",
   "execution_count": 3,
   "metadata": {},
   "outputs": [
    {
     "name": "stdout",
     "output_type": "stream",
     "text": [
      "Shape of the images: (38, 160, 3)\n",
      "Example of measurement: -0.15\n"
     ]
    }
   ],
   "source": [
    "print(\"Shape of the images: \" + str(X_train[0].shape))\n",
    "print(\"Example of measurement: \" + str(y_train[0]))"
   ]
  },
  {
   "cell_type": "code",
   "execution_count": 4,
   "metadata": {},
   "outputs": [
    {
     "name": "stdout",
     "output_type": "stream",
     "text": [
      "Model: \"sequential\"\n",
      "_________________________________________________________________\n",
      "Layer (type)                 Output Shape              Param #   \n",
      "=================================================================\n",
      "lambda (Lambda)              (None, 38, 160, 3)        0         \n",
      "_________________________________________________________________\n",
      "conv2d (Conv2D)              (None, 17, 78, 24)        1824      \n",
      "_________________________________________________________________\n",
      "activation (Activation)      (None, 17, 78, 24)        0         \n",
      "_________________________________________________________________\n",
      "max_pooling2d (MaxPooling2D) (None, 9, 39, 24)         0         \n",
      "_________________________________________________________________\n",
      "conv2d_1 (Conv2D)            (None, 3, 18, 36)         21636     \n",
      "_________________________________________________________________\n",
      "activation_1 (Activation)    (None, 3, 18, 36)         0         \n",
      "_________________________________________________________________\n",
      "conv2d_2 (Conv2D)            (None, 1, 16, 48)         15600     \n",
      "_________________________________________________________________\n",
      "activation_2 (Activation)    (None, 1, 16, 48)         0         \n",
      "_________________________________________________________________\n",
      "flatten (Flatten)            (None, 768)               0         \n",
      "_________________________________________________________________\n",
      "dense (Dense)                (None, 100)               76900     \n",
      "_________________________________________________________________\n",
      "activation_3 (Activation)    (None, 100)               0         \n",
      "_________________________________________________________________\n",
      "dropout (Dropout)            (None, 100)               0         \n",
      "_________________________________________________________________\n",
      "dense_1 (Dense)              (None, 50)                5050      \n",
      "_________________________________________________________________\n",
      "activation_4 (Activation)    (None, 50)                0         \n",
      "_________________________________________________________________\n",
      "dropout_1 (Dropout)          (None, 50)                0         \n",
      "_________________________________________________________________\n",
      "dense_2 (Dense)              (None, 10)                510       \n",
      "_________________________________________________________________\n",
      "activation_5 (Activation)    (None, 10)                0         \n",
      "_________________________________________________________________\n",
      "dropout_2 (Dropout)          (None, 10)                0         \n",
      "_________________________________________________________________\n",
      "dense_3 (Dense)              (None, 1)                 11        \n",
      "=================================================================\n",
      "Total params: 121,531\n",
      "Trainable params: 121,531\n",
      "Non-trainable params: 0\n",
      "_________________________________________________________________\n"
     ]
    }
   ],
   "source": [
    "model = keras.Sequential()\n",
    "model.add(layers.Lambda(lambda x: (x/255.0) - 0.5, input_shape=(38, 160, 3)))\n",
    "\n",
    "model.add(layers.Conv2D(filters=24, kernel_size=(5, 5), strides=(2, 2)))\n",
    "model.add(layers.Activation('elu'))\n",
    "model.add(layers.MaxPooling2D((2, 2), padding='same'))\n",
    "model.add(layers.Conv2D(filters=36, kernel_size=(5, 5), strides=(2, 2)))\n",
    "model.add(layers.Activation('elu'))\n",
    "model.add(layers.Conv2D(filters=48, kernel_size=(3, 3)))\n",
    "model.add(layers.Activation('elu'))\n",
    "#model.add(layers.Conv2D(filters=64, kernel_size=(3, 3)))\n",
    "#model.add(layers.Activation('elu'))\n",
    "#model.add(layers.MaxPooling2D((2, 2), padding='same'))\n",
    "\n",
    "model.add(layers.Flatten())\n",
    "\n",
    "model.add(layers.Dense(100))\n",
    "model.add(layers.Activation('elu'))\n",
    "model.add(layers.Dropout(0.5))\n",
    "model.add(layers.Dense(50))\n",
    "model.add(layers.Activation('elu'))\n",
    "model.add(layers.Dropout(0.2))\n",
    "model.add(layers.Dense(10))\n",
    "model.add(layers.Activation('elu'))\n",
    "model.add(layers.Dropout(0.2))\n",
    "model.add(layers.Dense(1))\n",
    "\n",
    "model.compile(optimizer=keras.optimizers.Adam(learning_rate=0.001),\n",
    "              loss=keras.losses.mse,\n",
    "              metrics=['mse'])\n",
    "\n",
    "model.summary()"
   ]
  },
  {
   "cell_type": "code",
   "execution_count": 5,
   "metadata": {},
   "outputs": [],
   "source": [
    "epochs = 5\n",
    "batch_size = 64"
   ]
  },
  {
   "cell_type": "code",
   "execution_count": 6,
   "metadata": {},
   "outputs": [
    {
     "name": "stdout",
     "output_type": "stream",
     "text": [
      "Train on 72096 samples, validate on 18024 samples\n",
      "Epoch 1/5\n",
      "72096/72096 [==============================] - 11s 157us/sample - loss: 0.0274 - mse: 0.0274 - val_loss: 0.0188 - val_mse: 0.0188\n",
      "Epoch 2/5\n",
      "72096/72096 [==============================] - 9s 123us/sample - loss: 0.0210 - mse: 0.0210 - val_loss: 0.0178 - val_mse: 0.0178\n",
      "Epoch 3/5\n",
      "72096/72096 [==============================] - 9s 119us/sample - loss: 0.0196 - mse: 0.0196 - val_loss: 0.0169 - val_mse: 0.0169\n",
      "Epoch 4/5\n",
      "72096/72096 [==============================] - 8s 116us/sample - loss: 0.0182 - mse: 0.0182 - val_loss: 0.0156 - val_mse: 0.0156\n",
      "Epoch 5/5\n",
      "72096/72096 [==============================] - 8s 117us/sample - loss: 0.0170 - mse: 0.0170 - val_loss: 0.0151 - val_mse: 0.0151\n"
     ]
    }
   ],
   "source": [
    "model.fit(X_train, y_train, batch_size=batch_size,\n",
    "          validation_data=(X_val, y_val),\n",
    "          shuffle=True, epochs=epochs, verbose=1)\n",
    "\n",
    "model.save('models/model5.h5')"
   ]
  },
  {
   "cell_type": "code",
   "execution_count": 7,
   "metadata": {},
   "outputs": [
    {
     "name": "stdout",
     "output_type": "stream",
     "text": [
      "Train on 72096 samples, validate on 18024 samples\n",
      "Epoch 1/5\n",
      "72096/72096 [==============================] - 9s 119us/sample - loss: 0.0164 - mse: 0.0164 - val_loss: 0.0148 - val_mse: 0.0148\n",
      "Epoch 2/5\n",
      "72096/72096 [==============================] - 9s 120us/sample - loss: 0.0160 - mse: 0.0160 - val_loss: 0.0143 - val_mse: 0.0143\n",
      "Epoch 3/5\n",
      "72096/72096 [==============================] - 9s 119us/sample - loss: 0.0157 - mse: 0.0157 - val_loss: 0.0143 - val_mse: 0.0143\n",
      "Epoch 4/5\n",
      "72096/72096 [==============================] - 9s 118us/sample - loss: 0.0153 - mse: 0.0153 - val_loss: 0.0137 - val_mse: 0.0137\n",
      "Epoch 5/5\n",
      "72096/72096 [==============================] - 8s 116us/sample - loss: 0.0150 - mse: 0.0150 - val_loss: 0.0144 - val_mse: 0.0144\n"
     ]
    }
   ],
   "source": [
    "model.fit(X_train, y_train, batch_size=batch_size,\n",
    "          validation_data=(X_val, y_val),\n",
    "          shuffle=True, epochs=epochs, verbose=1)\n",
    "\n",
    "model.save('models/model10.h5')"
   ]
  },
  {
   "cell_type": "code",
   "execution_count": 8,
   "metadata": {},
   "outputs": [
    {
     "name": "stdout",
     "output_type": "stream",
     "text": [
      "Train on 72096 samples, validate on 18024 samples\n",
      "Epoch 1/5\n",
      "72096/72096 [==============================] - 9s 121us/sample - loss: 0.0146 - mse: 0.0146 - val_loss: 0.0142 - val_mse: 0.0142\n",
      "Epoch 2/5\n",
      "72096/72096 [==============================] - 9s 119us/sample - loss: 0.0145 - mse: 0.0145 - val_loss: 0.0138 - val_mse: 0.0138\n",
      "Epoch 3/5\n",
      "72096/72096 [==============================] - 9s 119us/sample - loss: 0.0140 - mse: 0.0140 - val_loss: 0.0146 - val_mse: 0.0146\n",
      "Epoch 4/5\n",
      "72096/72096 [==============================] - 9s 123us/sample - loss: 0.0139 - mse: 0.0139 - val_loss: 0.0139 - val_mse: 0.0139\n",
      "Epoch 5/5\n",
      "72096/72096 [==============================] - 9s 120us/sample - loss: 0.0136 - mse: 0.0136 - val_loss: 0.0144 - val_mse: 0.0144\n"
     ]
    }
   ],
   "source": [
    "model.fit(X_train, y_train, batch_size=batch_size,\n",
    "          validation_data=(X_val, y_val),\n",
    "          shuffle=True, epochs=epochs, verbose=1)\n",
    "\n",
    "model.save('models/model15.h5')"
   ]
  },
  {
   "cell_type": "code",
   "execution_count": 9,
   "metadata": {},
   "outputs": [
    {
     "name": "stdout",
     "output_type": "stream",
     "text": [
      "Train on 72096 samples, validate on 18024 samples\n",
      "Epoch 1/5\n",
      "72096/72096 [==============================] - 9s 120us/sample - loss: 0.0132 - mse: 0.0132 - val_loss: 0.0144 - val_mse: 0.0144\n",
      "Epoch 2/5\n",
      "72096/72096 [==============================] - 9s 124us/sample - loss: 0.0128 - mse: 0.0128 - val_loss: 0.0146 - val_mse: 0.0146\n",
      "Epoch 3/5\n",
      "72096/72096 [==============================] - 9s 121us/sample - loss: 0.0125 - mse: 0.0125 - val_loss: 0.0143 - val_mse: 0.0143\n",
      "Epoch 4/5\n",
      "72096/72096 [==============================] - 9s 119us/sample - loss: 0.0122 - mse: 0.0122 - val_loss: 0.0146 - val_mse: 0.0146\n",
      "Epoch 5/5\n",
      "72096/72096 [==============================] - 8s 117us/sample - loss: 0.0121 - mse: 0.0121 - val_loss: 0.0148 - val_mse: 0.0148\n"
     ]
    }
   ],
   "source": [
    "model.fit(X_train, y_train, batch_size=batch_size,\n",
    "          validation_data=(X_val, y_val),\n",
    "          shuffle=True, epochs=epochs, verbose=1)\n",
    "\n",
    "model.save('models/model20.h5')"
   ]
  },
  {
   "cell_type": "code",
   "execution_count": null,
   "metadata": {},
   "outputs": [],
   "source": []
  }
 ],
 "metadata": {
  "kernelspec": {
   "display_name": "Python 3",
   "language": "python",
   "name": "python3"
  },
  "language_info": {
   "codemirror_mode": {
    "name": "ipython",
    "version": 3
   },
   "file_extension": ".py",
   "mimetype": "text/x-python",
   "name": "python",
   "nbconvert_exporter": "python",
   "pygments_lexer": "ipython3",
   "version": "3.8.5"
  }
 },
 "nbformat": 4,
 "nbformat_minor": 4
}
