{
 "cells": [
  {
   "cell_type": "markdown",
   "metadata": {},
   "source": [
    "# Self-Driving Car Engineer Nanodegree\n",
    "\n",
    "## Deep Learning\n",
    "\n",
    "## Project: Build a Traffic Sign Recognition Classifier\n",
    "\n",
    "In this notebook, a template is provided for you to implement your functionality in stages, which is required to successfully complete this project. If additional code is required that cannot be included in the notebook, be sure that the Python code is successfully imported and included in your submission if necessary. \n",
    "\n",
    "> **Note**: Once you have completed all of the code implementations, you need to finalize your work by exporting the iPython Notebook as an HTML document. Before exporting the notebook to html, all of the code cells need to have been run so that reviewers can see the final implementation and output. You can then export the notebook by using the menu above and navigating to  \\n\",\n",
    "    \"**File -> Download as -> HTML (.html)**. Include the finished document along with this notebook as your submission. \n",
    "\n",
    "In addition to implementing code, there is a writeup to complete. The writeup should be completed in a separate file, which can be either a markdown file or a pdf document. There is a [write up template](https://github.com/udacity/CarND-Traffic-Sign-Classifier-Project/blob/master/writeup_template.md) that can be used to guide the writing process. Completing the code template and writeup template will cover all of the [rubric points](https://review.udacity.com/#!/rubrics/481/view) for this project.\n",
    "\n",
    "The [rubric](https://review.udacity.com/#!/rubrics/481/view) contains \"Stand Out Suggestions\" for enhancing the project beyond the minimum requirements. The stand out suggestions are optional. If you decide to pursue the \"stand out suggestions\", you can include the code in this Ipython notebook and also discuss the results in the writeup file.\n",
    "\n",
    "\n",
    ">**Note:** Code and Markdown cells can be executed using the **Shift + Enter** keyboard shortcut. In addition, Markdown cells can be edited by typically double-clicking the cell to enter edit mode."
   ]
  },
  {
   "cell_type": "markdown",
   "metadata": {},
   "source": [
    "---\n",
    "## Step 0: Load The Data"
   ]
  },
  {
   "cell_type": "code",
   "execution_count": 1,
   "metadata": {},
   "outputs": [],
   "source": [
    "# Load pickled data\n",
    "import pickle\n",
    "\n",
    "training_file = \"traffic-signs-data/train.p\"\n",
    "validation_file= \"traffic-signs-data/valid.p\"\n",
    "testing_file = \"traffic-signs-data/test.p\"\n",
    "\n",
    "with open(training_file, mode='rb') as f:\n",
    "    train = pickle.load(f)\n",
    "with open(validation_file, mode='rb') as f:\n",
    "    valid = pickle.load(f)\n",
    "with open(testing_file, mode='rb') as f:\n",
    "    test = pickle.load(f)\n",
    "    \n",
    "X_train, y_train = train['features'], train['labels']\n",
    "X_valid, y_valid = valid['features'], valid['labels']\n",
    "X_test, y_test = test['features'], test['labels']"
   ]
  },
  {
   "cell_type": "markdown",
   "metadata": {},
   "source": [
    "---\n",
    "\n",
    "## Step 1: Dataset Summary & Exploration\n",
    "\n",
    "The pickled data is a dictionary with 4 key/value pairs:\n",
    "\n",
    "- `'features'` is a 4D array containing raw pixel data of the traffic sign images, (num examples, width, height, channels).\n",
    "- `'labels'` is a 1D array containing the label/class id of the traffic sign. The file `signnames.csv` contains id -> name mappings for each id.\n",
    "- `'sizes'` is a list containing tuples, (width, height) representing the original width and height the image.\n",
    "- `'coords'` is a list containing tuples, (x1, y1, x2, y2) representing coordinates of a bounding box around the sign in the image. **THESE COORDINATES ASSUME THE ORIGINAL IMAGE. THE PICKLED DATA CONTAINS RESIZED VERSIONS (32 by 32) OF THESE IMAGES**\n",
    "\n",
    "Complete the basic data summary below. Use python, numpy and/or pandas methods to calculate the data summary rather than hard coding the results. For example, the [pandas shape method](http://pandas.pydata.org/pandas-docs/stable/generated/pandas.DataFrame.shape.html) might be useful for calculating some of the summary results. "
   ]
  },
  {
   "cell_type": "markdown",
   "metadata": {},
   "source": [
    "### Provide a Basic Summary of the Data Set Using Python, Numpy and/or Pandas"
   ]
  },
  {
   "cell_type": "code",
   "execution_count": 2,
   "metadata": {},
   "outputs": [
    {
     "name": "stdout",
     "output_type": "stream",
     "text": [
      "Number of training examples = 34799\n",
      "Number of validation examples = 4410\n",
      "Number of testing examples = 12630\n",
      "Image data shape = (32, 32, 3)\n",
      "Number of classes = 43\n"
     ]
    }
   ],
   "source": [
    "### Replace each question mark with the appropriate value. \n",
    "### Use python, pandas or numpy methods rather than hard coding the results\n",
    "import numpy as np\n",
    "\n",
    "# TODO: Number of training examples\n",
    "n_train = len(X_train)\n",
    "\n",
    "# TODO: Number of validation examples\n",
    "n_validation = len(X_valid)\n",
    "\n",
    "# TODO: Number of testing examples.\n",
    "n_test = len(X_test)\n",
    "\n",
    "# TODO: What's the shape of an traffic sign image?\n",
    "image_shape = X_train[0].shape\n",
    "\n",
    "# TODO: How many unique classes/labels there are in the dataset.\n",
    "n_classes = len(np.unique(y_train))\n",
    "\n",
    "print(\"Number of training examples =\", n_train)\n",
    "print(\"Number of validation examples =\", n_validation)\n",
    "print(\"Number of testing examples =\", n_test)\n",
    "print(\"Image data shape =\", image_shape)\n",
    "print(\"Number of classes =\", n_classes)"
   ]
  },
  {
   "cell_type": "markdown",
   "metadata": {},
   "source": [
    "### Include an exploratory visualization of the dataset"
   ]
  },
  {
   "cell_type": "markdown",
   "metadata": {},
   "source": [
    "Visualize the German Traffic Signs Dataset using the pickled file(s). This is open ended, suggestions include: plotting traffic sign images, plotting the count of each sign, etc. \n",
    "\n",
    "The [Matplotlib](http://matplotlib.org/) [examples](http://matplotlib.org/examples/index.html) and [gallery](http://matplotlib.org/gallery.html) pages are a great resource for doing visualizations in Python.\n",
    "\n",
    "**NOTE:** It's recommended you start with something simple first. If you wish to do more, come back to it after you've completed the rest of the sections. It can be interesting to look at the distribution of classes in the training, validation and test set. Is the distribution the same? Are there more examples of some classes than others?"
   ]
  },
  {
   "cell_type": "code",
   "execution_count": 3,
   "metadata": {},
   "outputs": [],
   "source": [
    "### Data exploration visualization code goes here.\n",
    "### Feel free to use as many code cells as needed.\n",
    "import matplotlib.pyplot as plt\n",
    "import seaborn as sns\n",
    "import pandas as pd\n",
    "# Visualizations will be shown in the notebook.\n",
    "%matplotlib inline\n",
    "sns.set()\n",
    "\n",
    "# Create a dict mapping the number of class to the name\n",
    "df = pd.read_csv(\"signnames.csv\")\n",
    "df.set_index('ClassId', inplace=True)\n",
    "labels_dict = df.to_dict()['SignName']\n",
    "\n",
    "# Count the frequency of each class in the dataset\n",
    "unique, counts = np.unique(y_train, return_counts=True)\n",
    "train_freq = np.asarray((unique, counts)).T\n",
    "\n",
    "unique, counts = np.unique(y_test, return_counts=True)\n",
    "test_freq = np.asarray((unique, counts)).T\n",
    "\n",
    "unique, counts = np.unique(y_valid, return_counts=True)\n",
    "valid_freq = np.asarray((unique, counts)).T"
   ]
  },
  {
   "cell_type": "code",
   "execution_count": 4,
   "metadata": {},
   "outputs": [
    {
     "data": {
      "image/png": "[encoded data removed]",
      "text/plain": [
       "<Figure size 1080x360 with 1 Axes>"
      ]
     },
     "metadata": {},
     "output_type": "display_data"
    },
    {
     "data": {
      "image/png": "[encoded data removed]",
      "text/plain": [
       "<Figure size 1080x360 with 1 Axes>"
      ]
     },
     "metadata": {},
     "output_type": "display_data"
    },
    {
     "data": {
      "image/png": "[encoded data removed]",
      "text/plain": [
       "<Figure size 1080x360 with 1 Axes>"
      ]
     },
     "metadata": {},
     "output_type": "display_data"
    }
   ],
   "source": [
    "plt.figure(figsize=(15,5))\n",
    "plt.title(\"Train Data Sign Count\")\n",
    "plt.bar(train_freq[:, 0], train_freq[:, 1])\n",
    "plt.show()\n",
    "\n",
    "plt.figure(figsize=(15,5))\n",
    "plt.title(\"Valid Data Sign Count\")\n",
    "plt.bar(valid_freq[:, 0], valid_freq[:, 1])\n",
    "plt.show()\n",
    "\n",
    "plt.figure(figsize=(15,5))\n",
    "plt.title(\"Test Data Sign Count\")\n",
    "plt.bar(test_freq[:, 0], test_freq[:, 1])\n",
    "plt.show()"
   ]
  },
  {
   "cell_type": "code",
   "execution_count": 5,
   "metadata": {},
   "outputs": [
    {
     "data": {
      "image/png": "[encoded data removed]",
      "text/plain": [
       "<Figure size 1080x504 with 10 Axes>"
      ]
     },
     "metadata": {},
     "output_type": "display_data"
    }
   ],
   "source": [
    "# in order to modify the size\n",
    "# adding multiple Axes objects\n",
    "fig, axes = plt.subplots(2, 5, figsize=(15,7))\n",
    "\n",
    "idx = 0\n",
    "for i in range(2):\n",
    "    for j in range(5):\n",
    "        image = X_train[idx]\n",
    "        axes[i, j].grid(False)\n",
    "        axes[i, j].set_title(labels_dict[y_train[idx]] + \" (\" + str(idx) + \")\")\n",
    "        axes[i, j].imshow(image)\n",
    "        idx += 500\n",
    "plt.show()"
   ]
  },
  {
   "cell_type": "markdown",
   "metadata": {},
   "source": [
    "----\n",
    "\n",
    "## Step 2: Design and Test a Model Architecture\n",
    "\n",
    "Design and implement a deep learning model that learns to recognize traffic signs. Train and test your model on the [German Traffic Sign Dataset](http://benchmark.ini.rub.de/?section=gtsrb&subsection=dataset).\n",
    "\n",
    "The LeNet-5 implementation shown in the [classroom](https://classroom.udacity.com/nanodegrees/nd013/parts/fbf77062-5703-404e-b60c-95b78b2f3f9e/modules/6df7ae49-c61c-4bb2-a23e-6527e69209ec/lessons/601ae704-1035-4287-8b11-e2c2716217ad/concepts/d4aca031-508f-4e0b-b493-e7b706120f81) at the end of the CNN lesson is a solid starting point. You'll have to change the number of classes and possibly the preprocessing, but aside from that it's plug and play! \n",
    "\n",
    "With the LeNet-5 solution from the lecture, you should expect a validation set accuracy of about 0.89. To meet specifications, the validation set accuracy will need to be at least 0.93. It is possible to get an even higher accuracy, but 0.93 is the minimum for a successful project submission. \n",
    "\n",
    "There are various aspects to consider when thinking about this problem:\n",
    "\n",
    "- Neural network architecture (is the network over or underfitting?)\n",
    "- Play around preprocessing techniques (normalization, rgb to grayscale, etc)\n",
    "- Number of examples per label (some have more than others).\n",
    "- Generate fake data.\n",
    "\n",
    "Here is an example of a [published baseline model on this problem](http://yann.lecun.com/exdb/publis/pdf/sermanet-ijcnn-11.pdf). It's not required to be familiar with the approach used in the paper but, it's good practice to try to read papers like these."
   ]
  },
  {
   "cell_type": "markdown",
   "metadata": {},
   "source": [
    "### Pre-process the Data Set (normalization, grayscale, etc.)"
   ]
  },
  {
   "cell_type": "markdown",
   "metadata": {},
   "source": [
    "Minimally, the image data should be normalized so that the data has mean zero and equal variance. For image data, `(pixel - 128)/ 128` is a quick way to approximately normalize the data and can be used in this project. \n",
    "\n",
    "Other pre-processing steps are optional. You can try different techniques to see if it improves performance. \n",
    "\n",
    "Use the code cell (or multiple code cells, if necessary) to implement the first step of your project."
   ]
  },
  {
   "cell_type": "code",
   "execution_count": 6,
   "metadata": {},
   "outputs": [],
   "source": [
    "import torch\n",
    "\n",
    "from sklearn.utils import shuffle\n",
    "import torchvision.transforms as transforms"
   ]
  },
  {
   "cell_type": "code",
   "execution_count": 7,
   "metadata": {},
   "outputs": [],
   "source": [
    "class Dataset(object):\n",
    "    \"\"\"An abstract class representing a Dataset.\n",
    "    All other datasets should subclass it. All subclasses should override\n",
    "    ``__len__``, that provides the size of the dataset, and ``__getitem__``,\n",
    "    supporting integer indexing in range from 0 to len(self) exclusive.\n",
    "    \"\"\"\n",
    "\n",
    "    def __getitem__(self, index):\n",
    "        raise NotImplementedError\n",
    "\n",
    "    def __len__(self):\n",
    "        raise NotImplementedError\n",
    "\n",
    "    def __add__(self, other):\n",
    "        return ConcatDataset([self, other])"
   ]
  },
  {
   "cell_type": "code",
   "execution_count": 8,
   "metadata": {},
   "outputs": [],
   "source": [
    "class DatasetGermanTrafficSign(Dataset):\n",
    "    def __init__(self, X, Y, transform=None):\n",
    "        self.X = X\n",
    "        self.Y = Y\n",
    "        self.transform = transform\n",
    "        assert len(X) == len(Y)\n",
    "        \n",
    "    def __len__(self):\n",
    "        return len(self.X)\n",
    "    \n",
    "    def __getitem__(self, index):\n",
    "        # load image as ndarray type (Height * Width * Channels)\n",
    "        # be carefull for converting dtype to np.uint8 [Unsigned integer (0 to 255)]\n",
    "        # in this example, we use ToTensor(), so we define the numpy array like (H, W, C)\n",
    "        image = self.X[index]\n",
    "        label = self.Y[index]\n",
    "        \n",
    "        if self.transform is not None:\n",
    "            image = self.transform(image)\n",
    "                    \n",
    "        return image, label"
   ]
  },
  {
   "cell_type": "code",
   "execution_count": 9,
   "metadata": {},
   "outputs": [],
   "source": [
    "### Preprocess the data here. It is required to normalize the data. Other preprocessing steps could include \n",
    "### converting to grayscale, etc.\n",
    "\n",
    "# Normalize the images\n",
    "X_train = X_train/255\n",
    "X_valid = X_valid/255\n",
    "X_test = X_test/255"
   ]
  },
  {
   "cell_type": "code",
   "execution_count": 10,
   "metadata": {},
   "outputs": [],
   "source": [
    "train_set = DatasetGermanTrafficSign(X_train, y_train, transform=transforms.ToTensor())\n",
    "valid_set = DatasetGermanTrafficSign(X_valid, y_valid, transform=transforms.ToTensor())\n",
    "test_set = DatasetGermanTrafficSign(X_test, y_test, transform=transforms.ToTensor())\n",
    "\n",
    "train_loader = torch.utils.data.DataLoader(train_set, batch_size=128, shuffle=True)\n",
    "valid_loader = torch.utils.data.DataLoader(valid_set, batch_size=128, shuffle=True)\n",
    "test_loader = torch.utils.data.DataLoader(test_set, batch_size=128, shuffle=True)"
   ]
  },
  {
   "cell_type": "code",
   "execution_count": 11,
   "metadata": {},
   "outputs": [
    {
     "name": "stdout",
     "output_type": "stream",
     "text": [
      "torch.Size([128, 3, 32, 32])\n",
      "torch.Size([3, 32, 32])\n",
      "5\n"
     ]
    }
   ],
   "source": [
    "dataiter = iter(train_loader)\n",
    "images, labels = dataiter.next()\n",
    "\n",
    "print(images.shape)\n",
    "\n",
    "print(images[1].shape)\n",
    "print(labels[1].item())"
   ]
  },
  {
   "cell_type": "markdown",
   "metadata": {},
   "source": [
    "### Model Architecture"
   ]
  },
  {
   "cell_type": "code",
   "execution_count": 12,
   "metadata": {},
   "outputs": [],
   "source": [
    "### Define your architecture here.\n",
    "### Feel free to use as many code cells as needed.\n",
    "import torch\n",
    "import torch.nn as nn\n",
    "import torch.optim as optim\n",
    "\n",
    "class LeNet(nn.Module):\n",
    "    def __init__(self):\n",
    "        super(LeNet, self).__init__()\n",
    "        \n",
    "        self.cnn_model = nn.Sequential(\n",
    "            nn.Conv2d(3, 6, 5),         # (N, 3, 32, 32) -> (N,  6, 28, 28)\n",
    "            nn.ReLU(),\n",
    "            nn.MaxPool2d(2, stride=2),  # (N, 6, 28, 28) -> (N,  6, 14, 14)\n",
    "            nn.Conv2d(6, 16, 5),        # (N, 6, 14, 14) -> (N,  16, 10, 10)\n",
    "            nn.ReLU(),\n",
    "            nn.MaxPool2d(2, stride=2),  # (N,  16, 10, 10) -> (N,  16, 5, 5)\n",
    "        )\n",
    "        self.fc_model = nn.Sequential(\n",
    "            nn.Linear(400, 120),        # (N, 256) -> (N, 120)\n",
    "            nn.ReLU(),\n",
    "            nn.Dropout(0.5),\n",
    "            nn.Linear(120, 84),         # (N, 120) -> (N, 84)\n",
    "            nn.ReLU(),\n",
    "            nn.Dropout(0.5),\n",
    "            nn.Linear(84, 43),          # (N, 84) -> (N, 10)\n",
    "        )\n",
    "    def forward(self, x):\n",
    "        x = self.cnn_model(x)\n",
    "        x = x.view(x.size(0), -1)\n",
    "        x = self.fc_model(x)\n",
    "        \n",
    "        return x"
   ]
  },
  {
   "cell_type": "markdown",
   "metadata": {},
   "source": [
    "### Train, Validate and Test the Model"
   ]
  },
  {
   "cell_type": "markdown",
   "metadata": {},
   "source": [
    "A validation set can be used to assess how well the model is performing. A low accuracy on the training and validation\n",
    "sets imply underfitting. A high accuracy on the training set but low accuracy on the validation set implies overfitting."
   ]
  },
  {
   "cell_type": "code",
   "execution_count": 13,
   "metadata": {},
   "outputs": [],
   "source": [
    "def evaluation(data_loader):\n",
    "    total, correct, loss_total = 0, 0, 0\n",
    "    for data in data_loader:\n",
    "        inputs, labels = data\n",
    "        inputs = inputs.float()\n",
    "        if(train_on_gpu):\n",
    "            inputs, labels = inputs.cuda(), labels.cuda()\n",
    "        outputs = model(inputs)\n",
    "        loss = loss_func(outputs, labels.long())\n",
    "        _, pred = torch.max(outputs.data, 1)\n",
    "        total += labels.size(0)\n",
    "        loss_total += loss.item()*inputs.size(0)\n",
    "        correct += (pred == labels).sum().item()\n",
    "    return (100 * correct / total), loss_total/len(data_loader.dataset)"
   ]
  },
  {
   "cell_type": "code",
   "execution_count": 14,
   "metadata": {},
   "outputs": [
    {
     "name": "stdout",
     "output_type": "stream",
     "text": [
      "Trainning on GPU\n",
      "Epoch: 1/1000 Train acc: 41.24 Train loss: 1.788875\n",
      "            Valid acc: 35.87 Valid loss: 1.931643\n",
      "            Validation loss decreased (1.931643 --> 1.931643).  Saving model ...\n",
      "Epoch: 2/1000 Train acc: 72.80 Train loss: 0.878062\n",
      "            Valid acc: 68.34 Valid loss: 1.034655\n",
      "            Validation loss decreased (1.034655 --> 1.034655).  Saving model ...\n",
      "Epoch: 3/1000 Train acc: 88.32 Train loss: 0.399644\n",
      "            Valid acc: 83.33 Valid loss: 0.546004\n",
      "            Validation loss decreased (0.546004 --> 0.546004).  Saving model ...\n",
      "Epoch: 4/1000 Train acc: 93.18 Train loss: 0.238413\n",
      "            Valid acc: 87.44 Valid loss: 0.374892\n",
      "            Validation loss decreased (0.374892 --> 0.374892).  Saving model ...\n",
      "Epoch: 5/1000 Train acc: 95.74 Train loss: 0.152306\n",
      "            Valid acc: 91.22 Valid loss: 0.296357\n",
      "            Validation loss decreased (0.296357 --> 0.296357).  Saving model ...\n",
      "Epoch: 6/1000 Train acc: 96.59 Train loss: 0.134706\n",
      "            Valid acc: 92.70 Valid loss: 0.255929\n",
      "            Validation loss decreased (0.255929 --> 0.255929).  Saving model ...\n",
      "Epoch: 7/1000 Train acc: 97.29 Train loss: 0.096056\n",
      "            Valid acc: 92.34 Valid loss: 0.263704\n",
      "Epoch: 8/1000 Train acc: 98.22 Train loss: 0.068489\n",
      "            Valid acc: 93.76 Valid loss: 0.229575\n",
      "            Validation loss decreased (0.229575 --> 0.229575).  Saving model ...\n",
      "Epoch: 9/1000 Train acc: 98.57 Train loss: 0.057357\n",
      "            Valid acc: 94.20 Valid loss: 0.202878\n",
      "            Validation loss decreased (0.202878 --> 0.202878).  Saving model ...\n",
      "Epoch: 10/1000 Train acc: 98.60 Train loss: 0.055898\n",
      "            Valid acc: 94.13 Valid loss: 0.214446\n",
      "Epoch: 11/1000 Train acc: 98.97 Train loss: 0.043871\n",
      "            Valid acc: 94.97 Valid loss: 0.197115\n",
      "            Validation loss decreased (0.197115 --> 0.197115).  Saving model ...\n",
      "Epoch: 12/1000 Train acc: 98.95 Train loss: 0.041035\n",
      "            Valid acc: 94.88 Valid loss: 0.241523\n",
      "Epoch: 13/1000 Train acc: 99.03 Train loss: 0.035774\n",
      "            Valid acc: 95.42 Valid loss: 0.182441\n",
      "            Validation loss decreased (0.182441 --> 0.182441).  Saving model ...\n",
      "Epoch: 14/1000 Train acc: 99.11 Train loss: 0.036589\n",
      "            Valid acc: 94.72 Valid loss: 0.234479\n",
      "Epoch: 15/1000 Train acc: 99.40 Train loss: 0.025456\n",
      "            Valid acc: 95.85 Valid loss: 0.151766\n",
      "            Validation loss decreased (0.151766 --> 0.151766).  Saving model ...\n",
      "Epoch: 16/1000 Train acc: 99.12 Train loss: 0.033490\n",
      "            Valid acc: 95.01 Valid loss: 0.187478\n",
      "Epoch: 17/1000 Train acc: 99.49 Train loss: 0.022624\n",
      "            Valid acc: 95.74 Valid loss: 0.198696\n",
      "Epoch: 18/1000 Train acc: 99.34 Train loss: 0.024291\n",
      "            Valid acc: 95.58 Valid loss: 0.191353\n",
      "Epoch: 19/1000 Train acc: 99.54 Train loss: 0.018797\n",
      "            Valid acc: 95.83 Valid loss: 0.186395\n",
      "Epoch: 20/1000 Train acc: 99.35 Train loss: 0.023940\n",
      "            Valid acc: 95.49 Valid loss: 0.187482\n",
      "Epoch: 21/1000 Train acc: 99.55 Train loss: 0.017597\n",
      "            Valid acc: 95.26 Valid loss: 0.212273\n",
      "Epoch: 22/1000 Train acc: 99.54 Train loss: 0.016736\n",
      "            Valid acc: 95.49 Valid loss: 0.253148\n",
      "Epoch: 23/1000 Train acc: 99.52 Train loss: 0.017319\n",
      "            Valid acc: 95.78 Valid loss: 0.205006\n",
      "Epoch: 24/1000 Train acc: 99.46 Train loss: 0.019251\n",
      "            Valid acc: 95.33 Valid loss: 0.246033\n",
      "Epoch: 25/1000 Train acc: 99.63 Train loss: 0.015085\n",
      "            Valid acc: 95.51 Valid loss: 0.213790\n",
      "Epoch: 26/1000 Train acc: 99.36 Train loss: 0.022882\n",
      "            Valid acc: 95.15 Valid loss: 0.228489\n",
      "Epoch: 27/1000 Train acc: 99.67 Train loss: 0.013108\n",
      "            Valid acc: 95.99 Valid loss: 0.217435\n",
      "Epoch: 28/1000 Train acc: 99.53 Train loss: 0.018577\n",
      "            Valid acc: 95.24 Valid loss: 0.218116\n",
      "Epoch: 29/1000 Train acc: 99.53 Train loss: 0.016795\n",
      "            Valid acc: 95.35 Valid loss: 0.258392\n",
      "Epoch: 30/1000 Train acc: 99.69 Train loss: 0.011964\n",
      "            Valid acc: 95.67 Valid loss: 0.234003\n",
      "\n",
      "Training stopped due to 15 epochs without improvement\n",
      "\n"
     ]
    }
   ],
   "source": [
    "### Train your model here.\n",
    "model = LeNet()\n",
    "\n",
    "train_on_gpu = torch.cuda.is_available()\n",
    "if(train_on_gpu):\n",
    "    print(\"Trainning on GPU\")\n",
    "    model.cuda()\n",
    "else:\n",
    "    print(\"Trainning on CPU\")\n",
    "    model.cpu()\n",
    "\n",
    "    \n",
    "# Hyperparameters\n",
    "n_epochs = 1000\n",
    "\n",
    "# Loss function\n",
    "loss_func = nn.CrossEntropyLoss()\n",
    "\n",
    "# Optimizer\n",
    "#optimizer = optim.Adam(model.parameters())\n",
    "optimizer = optim.Adadelta(model.parameters())\n",
    "valid_loss_min = 100000\n",
    "n_epochs_without_improvement = 0\n",
    "max_epochs_without_improvement = 15\n",
    "for epoch in range(1, n_epochs+1):\n",
    "    model.train()\n",
    "    total, correct = 0, 0\n",
    "    for inputs, labels in train_loader:\n",
    "        # move tensors to GPU if CUDA is available\n",
    "        inputs = inputs.float()\n",
    "        if train_on_gpu:\n",
    "            inputs, labels = inputs.cuda(), labels.cuda()\n",
    "        # clear the gradients of all optimized variables\n",
    "        optimizer.zero_grad()\n",
    "        # forward pass: compute predicted outputs by passing inputs to the model\n",
    "        output = model(inputs)\n",
    "        # calculate the batch loss\n",
    "        loss = loss_func(output, labels.long())\n",
    "        # backward pass: compute gradient of the loss with respect to model parameters\n",
    "        loss.backward()\n",
    "        # perform a single optimization step (parameter update)\n",
    "        optimizer.step()\n",
    "    model.eval()\n",
    "    train_acc, train_loss = evaluation(train_loader)\n",
    "    valid_acc, valid_loss = evaluation(valid_loader)\n",
    "    print('Epoch: {0}/{1} Train acc: {2:.2f} Train loss: {3:.6f}'.format(epoch, n_epochs, train_acc, train_loss))\n",
    "    print('            Valid acc: {0:.2f} Valid loss: {1:.6f}'.format(valid_acc, valid_loss))\n",
    "    \n",
    "    if valid_loss < valid_loss_min:\n",
    "        valid_loss_min = valid_loss\n",
    "        print('            Validation loss decreased ({:.6f} --> {:.6f}).  Saving model ...'.format(\n",
    "            valid_loss_min, valid_loss))\n",
    "        state = {'epoch': epoch,\n",
    "                 'state_dict': model.state_dict(),\n",
    "                 'optimizer': optimizer.state_dict(), \n",
    "                 'loss_func': loss_func}\n",
    "        torch.save(state, 'best_model.pt')\n",
    "        n_epochs_without_improvement = 0\n",
    "    else:\n",
    "        n_epochs_without_improvement += 1\n",
    "    if n_epochs_without_improvement == max_epochs_without_improvement:\n",
    "        print(\"\\nTraining stopped due to {0} epochs without improvement\\n\".format(max_epochs_without_improvement))\n",
    "        break"
   ]
  },
  {
   "cell_type": "markdown",
   "metadata": {},
   "source": [
    "---\n",
    "\n",
    "## Step 3: Test a Model on New Images\n",
    "\n",
    "To give yourself more insight into how your model is working, download at least five pictures of German traffic signs from the web and use your model to predict the traffic sign type.\n",
    "\n",
    "You may find `signnames.csv` useful as it contains mappings from the class id (integer) to the actual sign name."
   ]
  },
  {
   "cell_type": "code",
   "execution_count": 49,
   "metadata": {},
   "outputs": [
    {
     "name": "stdout",
     "output_type": "stream",
     "text": [
      "Trainning set accuracy: 99.40\n",
      "Validation set accuracy: 95.85\n",
      "Test set accuracy: 93.82\n"
     ]
    },
    {
     "data": {
      "text/plain": [
       "LeNet(\n",
       "  (cnn_model): Sequential(\n",
       "    (0): Conv2d(3, 6, kernel_size=(5, 5), stride=(1, 1))\n",
       "    (1): ReLU()\n",
       "    (2): MaxPool2d(kernel_size=2, stride=2, padding=0, dilation=1, ceil_mode=False)\n",
       "    (3): Conv2d(6, 16, kernel_size=(5, 5), stride=(1, 1))\n",
       "    (4): ReLU()\n",
       "    (5): MaxPool2d(kernel_size=2, stride=2, padding=0, dilation=1, ceil_mode=False)\n",
       "  )\n",
       "  (fc_model): Sequential(\n",
       "    (0): Linear(in_features=400, out_features=120, bias=True)\n",
       "    (1): ReLU()\n",
       "    (2): Dropout(p=0.5, inplace=False)\n",
       "    (3): Linear(in_features=120, out_features=84, bias=True)\n",
       "    (4): ReLU()\n",
       "    (5): Dropout(p=0.5, inplace=False)\n",
       "    (6): Linear(in_features=84, out_features=43, bias=True)\n",
       "  )\n",
       ")"
      ]
     },
     "execution_count": 49,
     "metadata": {},
     "output_type": "execute_result"
    }
   ],
   "source": [
    "model = LeNet()\n",
    "checkpoint = torch.load(\"best_model.pt\")\n",
    "model.load_state_dict(checkpoint['state_dict'])\n",
    "\n",
    "model.cuda()\n",
    "model.eval()\n",
    "train_acc, _ = evaluation(train_loader)\n",
    "valid_acc, _ = evaluation(valid_loader)\n",
    "test_acc, _ = evaluation(test_loader)\n",
    "\n",
    "print(\"Trainning set accuracy: {:.2f}\".format(train_acc))\n",
    "print(\"Validation set accuracy: {:.2f}\".format(valid_acc))\n",
    "print(\"Test set accuracy: {:.2f}\".format(test_acc))\n",
    "model.cpu()"
   ]
  },
  {
   "cell_type": "markdown",
   "metadata": {},
   "source": [
    "### Load and Output the Images"
   ]
  },
  {
   "cell_type": "code",
   "execution_count": 56,
   "metadata": {},
   "outputs": [],
   "source": [
    "### Load the images and plot them here.\n",
    "from PIL import Image\n",
    "import cv2\n",
    "\n",
    "def getImagePredictions(image):\n",
    "    image_backup = image\n",
    "    image = (np.array(image))/255\n",
    "    # Move color channels to first dimension as expected by PyTorch\n",
    "    image = torch.tensor(image)\n",
    "    image = image.view(1, 3, 32, 32).float()\n",
    "\n",
    "    model.eval()\n",
    "    with torch.no_grad():\n",
    "        output = model(image)\n",
    "    sm = torch.nn.Softmax(dim=1)\n",
    "    output = sm(output).cpu()\n",
    "\n",
    "    probabilities = np.squeeze(np.array(output))\n",
    "    classes = list(labels_dict.keys())\n",
    "\n",
    "    probabilities_dict = {}\n",
    "    for i in range(len(probabilities)):\n",
    "        probabilities_dict[probabilities[i]] = classes[i]\n",
    "\n",
    "    probabilities = np.sort(probabilities)\n",
    "\n",
    "    top_classes = []\n",
    "    for prob in probabilities:\n",
    "        top_classes.append(labels_dict[probabilities_dict[prob]])\n",
    "\n",
    "    top_classes, probabilities = top_classes[-5:], probabilities[-5:]\n",
    "\n",
    "    fig = plt.figure(figsize = (6,10))\n",
    "\n",
    "    plt.subplot(2, 1, 1)\n",
    "    plt.imshow(image_backup)\n",
    "    plt.title(top_classes[-1])\n",
    "\n",
    "    plt.subplot(2, 1, 2)\n",
    "    y_pos = np.arange(len(probabilities))\n",
    "    plt.barh(y_pos, probabilities)\n",
    "    plt.yticks(y_pos, top_classes)\n",
    "\n",
    "    plt.show()"
   ]
  },
  {
   "cell_type": "code",
   "execution_count": null,
   "metadata": {},
   "outputs": [],
   "source": [
    "## TODO Test images"
   ]
  },
  {
   "cell_type": "markdown",
   "metadata": {},
   "source": [
    "### Predict the Sign Type for Each Image"
   ]
  },
  {
   "cell_type": "code",
   "execution_count": 18,
   "metadata": {},
   "outputs": [],
   "source": [
    "### Run the predictions here and use the model to output the prediction for each image.\n",
    "### Make sure to pre-process the images with the same pre-processing pipeline used earlier.\n",
    "### Feel free to use as many code cells as needed."
   ]
  },
  {
   "cell_type": "markdown",
   "metadata": {},
   "source": [
    "### Analyze Performance"
   ]
  },
  {
   "cell_type": "code",
   "execution_count": 19,
   "metadata": {},
   "outputs": [],
   "source": [
    "### Calculate the accuracy for these 5 new images. \n",
    "### For example, if the model predicted 1 out of 5 signs correctly, it's 20% accurate on these new images."
   ]
  },
  {
   "cell_type": "markdown",
   "metadata": {},
   "source": [
    "### Output Top 5 Softmax Probabilities For Each Image Found on the Web"
   ]
  },
  {
   "cell_type": "markdown",
   "metadata": {},
   "source": [
    "For each of the new images, print out the model's softmax probabilities to show the **certainty** of the model's predictions (limit the output to the top 5 probabilities for each image). [`tf.nn.top_k`](https://www.tensorflow.org/versions/r0.12/api_docs/python/nn.html#top_k) could prove helpful here. \n",
    "\n",
    "The example below demonstrates how tf.nn.top_k can be used to find the top k predictions for each image.\n",
    "\n",
    "`tf.nn.top_k` will return the values and indices (class ids) of the top k predictions. So if k=3, for each sign, it'll return the 3 largest probabilities (out of a possible 43) and the correspoding class ids.\n",
    "\n",
    "Take this numpy array as an example. The values in the array represent predictions. The array contains softmax probabilities for five candidate images with six possible classes. `tf.nn.top_k` is used to choose the three classes with the highest probability:\n",
    "\n",
    "```\n",
    "# (5, 6) array\n",
    "a = np.array([[ 0.24879643,  0.07032244,  0.12641572,  0.34763842,  0.07893497,\n",
    "         0.12789202],\n",
    "       [ 0.28086119,  0.27569815,  0.08594638,  0.0178669 ,  0.18063401,\n",
    "         0.15899337],\n",
    "       [ 0.26076848,  0.23664738,  0.08020603,  0.07001922,  0.1134371 ,\n",
    "         0.23892179],\n",
    "       [ 0.11943333,  0.29198961,  0.02605103,  0.26234032,  0.1351348 ,\n",
    "         0.16505091],\n",
    "       [ 0.09561176,  0.34396535,  0.0643941 ,  0.16240774,  0.24206137,\n",
    "         0.09155967]])\n",
    "```\n",
    "\n",
    "Running it through `sess.run(tf.nn.top_k(tf.constant(a), k=3))` produces:\n",
    "\n",
    "```\n",
    "TopKV2(values=array([[ 0.34763842,  0.24879643,  0.12789202],\n",
    "       [ 0.28086119,  0.27569815,  0.18063401],\n",
    "       [ 0.26076848,  0.23892179,  0.23664738],\n",
    "       [ 0.29198961,  0.26234032,  0.16505091],\n",
    "       [ 0.34396535,  0.24206137,  0.16240774]]), indices=array([[3, 0, 5],\n",
    "       [0, 1, 4],\n",
    "       [0, 5, 1],\n",
    "       [1, 3, 5],\n",
    "       [1, 4, 3]], dtype=int32))\n",
    "```\n",
    "\n",
    "Looking just at the first row we get `[ 0.34763842,  0.24879643,  0.12789202]`, you can confirm these are the 3 largest probabilities in `a`. You'll also notice `[3, 0, 5]` are the corresponding indices."
   ]
  },
  {
   "cell_type": "code",
   "execution_count": 20,
   "metadata": {},
   "outputs": [],
   "source": [
    "### Print out the top five softmax probabilities for the predictions on the German traffic sign images found on the web. \n",
    "### Feel free to use as many code cells as needed."
   ]
  },
  {
   "cell_type": "markdown",
   "metadata": {},
   "source": [
    "### Project Writeup\n",
    "\n",
    "Once you have completed the code implementation, document your results in a project writeup using this [template](https://github.com/udacity/CarND-Traffic-Sign-Classifier-Project/blob/master/writeup_template.md) as a guide. The writeup can be in a markdown or pdf file. "
   ]
  },
  {
   "cell_type": "markdown",
   "metadata": {},
   "source": [
    "> **Note**: Once you have completed all of the code implementations and successfully answered each question above, you may finalize your work by exporting the iPython Notebook as an HTML document. You can do this by using the menu above and navigating to  \\n\",\n",
    "    \"**File -> Download as -> HTML (.html)**. Include the finished document along with this notebook as your submission."
   ]
  },
  {
   "cell_type": "markdown",
   "metadata": {},
   "source": [
    "---\n",
    "\n",
    "## Step 4 (Optional): Visualize the Neural Network's State with Test Images\n",
    "\n",
    " This Section is not required to complete but acts as an additional excersise for understaning the output of a neural network's weights. While neural networks can be a great learning device they are often referred to as a black box. We can understand what the weights of a neural network look like better by plotting their feature maps. After successfully training your neural network you can see what it's feature maps look like by plotting the output of the network's weight layers in response to a test stimuli image. From these plotted feature maps, it's possible to see what characteristics of an image the network finds interesting. For a sign, maybe the inner network feature maps react with high activation to the sign's boundary outline or to the contrast in the sign's painted symbol.\n",
    "\n",
    " Provided for you below is the function code that allows you to get the visualization output of any tensorflow weight layer you want. The inputs to the function should be a stimuli image, one used during training or a new one you provided, and then the tensorflow variable name that represents the layer's state during the training process, for instance if you wanted to see what the [LeNet lab's](https://classroom.udacity.com/nanodegrees/nd013/parts/fbf77062-5703-404e-b60c-95b78b2f3f9e/modules/6df7ae49-c61c-4bb2-a23e-6527e69209ec/lessons/601ae704-1035-4287-8b11-e2c2716217ad/concepts/d4aca031-508f-4e0b-b493-e7b706120f81) feature maps looked like for it's second convolutional layer you could enter conv2 as the tf_activation variable.\n",
    "\n",
    "For an example of what feature map outputs look like, check out NVIDIA's results in their paper [End-to-End Deep Learning for Self-Driving Cars](https://devblogs.nvidia.com/parallelforall/deep-learning-self-driving-cars/) in the section Visualization of internal CNN State. NVIDIA was able to show that their network's inner weights had high activations to road boundary lines by comparing feature maps from an image with a clear path to one without. Try experimenting with a similar test to show that your trained network's weights are looking for interesting features, whether it's looking at differences in feature maps from images with or without a sign, or even what feature maps look like in a trained network vs a completely untrained one on the same sign image.\n",
    "\n",
    "<figure>\n",
    " <img src=\"visualize_cnn.png\" width=\"380\" alt=\"Combined Image\" />\n",
    " <figcaption>\n",
    " <p></p> \n",
    " <p style=\"text-align: center;\"> Your output should look something like this (above)</p> \n",
    " </figcaption>\n",
    "</figure>\n",
    " <p></p> \n"
   ]
  },
  {
   "cell_type": "code",
   "execution_count": 21,
   "metadata": {},
   "outputs": [],
   "source": [
    "### Visualize your network's feature maps here.\n",
    "### Feel free to use as many code cells as needed.\n",
    "\n",
    "# image_input: the test image being fed into the network to produce the feature maps\n",
    "# tf_activation: should be a tf variable name used during your training procedure that represents the calculated state of a specific weight layer\n",
    "# activation_min/max: can be used to view the activation contrast in more detail, by default matplot sets min and max to the actual min and max values of the output\n",
    "# plt_num: used to plot out multiple different weight feature map sets on the same block, just extend the plt number for each new feature map entry\n",
    "\n",
    "def outputFeatureMap(image_input, tf_activation, activation_min=-1, activation_max=-1 ,plt_num=1):\n",
    "    # Here make sure to preprocess your image_input in a way your network expects\n",
    "    # with size, normalization, ect if needed\n",
    "    # image_input =\n",
    "    # Note: x should be the same name as your network's tensorflow data placeholder variable\n",
    "    # If you get an error tf_activation is not defined it may be having trouble accessing the variable from inside a function\n",
    "    activation = tf_activation.eval(session=sess,feed_dict={x : image_input})\n",
    "    featuremaps = activation.shape[3]\n",
    "    plt.figure(plt_num, figsize=(15,15))\n",
    "    for featuremap in range(featuremaps):\n",
    "        plt.subplot(6,8, featuremap+1) # sets the number of feature maps to show on each row and column\n",
    "        plt.title('FeatureMap ' + str(featuremap)) # displays the feature map number\n",
    "        if activation_min != -1 & activation_max != -1:\n",
    "            plt.imshow(activation[0,:,:, featuremap], interpolation=\"nearest\", vmin =activation_min, vmax=activation_max, cmap=\"gray\")\n",
    "        elif activation_max != -1:\n",
    "            plt.imshow(activation[0,:,:, featuremap], interpolation=\"nearest\", vmax=activation_max, cmap=\"gray\")\n",
    "        elif activation_min !=-1:\n",
    "            plt.imshow(activation[0,:,:, featuremap], interpolation=\"nearest\", vmin=activation_min, cmap=\"gray\")\n",
    "        else:\n",
    "            plt.imshow(activation[0,:,:, featuremap], interpolation=\"nearest\", cmap=\"gray\")"
   ]
  }
 ],
 "metadata": {
  "anaconda-cloud": {},
  "kernelspec": {
   "display_name": "Python 3",
   "language": "python",
   "name": "python3"
  },
  "language_info": {
   "codemirror_mode": {
    "name": "ipython",
    "version": 3
   },
   "file_extension": ".py",
   "mimetype": "text/x-python",
   "name": "python",
   "nbconvert_exporter": "python",
   "pygments_lexer": "ipython3",
   "version": "3.6.10"
  }
 },
 "nbformat": 4,
 "nbformat_minor": 1
}
